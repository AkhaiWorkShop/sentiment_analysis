{
 "cells": [
  {
   "cell_type": "code",
   "execution_count": 1,
   "id": "b3a77b92",
   "metadata": {},
   "outputs": [],
   "source": [
    "import pandas as pd"
   ]
  },
  {
   "cell_type": "code",
   "execution_count": 2,
   "id": "ba10a204",
   "metadata": {},
   "outputs": [
    {
     "name": "stdout",
     "output_type": "stream",
     "text": [
      "=== INFO DATASET ===\n",
      "(1815, 2)\n",
      "Index(['sentimen', 'tweet'], dtype='object')\n",
      "<class 'pandas.core.frame.DataFrame'>\n",
      "RangeIndex: 1815 entries, 0 to 1814\n",
      "Data columns (total 2 columns):\n",
      " #   Column    Non-Null Count  Dtype \n",
      "---  ------    --------------  ----- \n",
      " 0   sentimen  1815 non-null   object\n",
      " 1   tweet     1815 non-null   object\n",
      "dtypes: object(2)\n",
      "memory usage: 28.5+ KB\n",
      "       sentimen                                              tweet\n",
      "count      1815                                               1815\n",
      "unique        3                                               1815\n",
      "top     positif  Pak @jokowi mengubah cara pandang ekonomi. Kin...\n",
      "freq        612                                                  1\n",
      "\n",
      "=== CEK DUPLIKAT DAN NULL ===\n",
      "Jumlah duplikat: 0\n",
      "Nilai null per kolom:\n",
      "sentimen    0\n",
      "tweet       0\n",
      "dtype: int64\n",
      "\n",
      "=== DISTRIBUSI LABEL ===\n",
      "sentimen\n",
      "positif    612\n",
      "netral     607\n",
      "negatif    596\n",
      "Name: count, dtype: int64\n",
      "\n",
      "Statistik panjang tweet:\n",
      "count    1815.000000\n",
      "mean       24.934435\n",
      "std        10.820302\n",
      "min         5.000000\n",
      "25%        15.000000\n",
      "50%        24.000000\n",
      "75%        34.000000\n",
      "max        53.000000\n",
      "Name: tweet_length, dtype: float64\n",
      "\n",
      "=== CONTOH DATA ===\n",
      "     sentimen                                              tweet  tweet_length\n",
      "567   negatif  Bukan hanya kurang milenial, tapi memang dia s...            42\n",
      "432   positif  artinya presiden yg ke 6 tdk menerima gaji.pra...            17\n",
      "1750  positif  Kalau menurut saya  bang @sandiuno  dan bapak ...            41\n",
      "674   negatif  Bukan hanya ekonomi aja Pak....namun kehidupan...            27\n",
      "111   negatif  Gak ngaruh, jokowi mau ke kutub utara juga, ra...            26\n"
     ]
    }
   ],
   "source": [
    "\n",
    "# Load data\n",
    "df = pd.read_csv(\"../data/dataset.csv\")\n",
    "\n",
    "# Hapus kolom Unnamed\n",
    "df = df.drop(columns=['Unnamed: 0'], errors='ignore')\n",
    "\n",
    "# Cek info dasar\n",
    "print(\"=== INFO DATASET ===\")\n",
    "print(df.shape)\n",
    "print(df.columns)\n",
    "df.info()\n",
    "print(df.describe(include='all'))\n",
    "\n",
    "# Cek duplikat & null\n",
    "print(\"\\n=== CEK DUPLIKAT DAN NULL ===\")\n",
    "print(f\"Jumlah duplikat: {df.duplicated(subset='tweet').sum()}\")\n",
    "df = df.drop_duplicates(subset='tweet')\n",
    "print(\"Nilai null per kolom:\")\n",
    "print(df.isnull().sum())\n",
    "\n",
    "# Cek distribusi label\n",
    "print(\"\\n=== DISTRIBUSI LABEL ===\")\n",
    "print(df['sentimen'].value_counts())\n",
    "\n",
    "# Tambah panjang teks\n",
    "df['tweet_length'] = df['tweet'].apply(lambda x: len(str(x).split()))\n",
    "print(\"\\nStatistik panjang tweet:\")\n",
    "print(df['tweet_length'].describe())\n",
    "\n",
    "# Cek contoh data\n",
    "print(\"\\n=== CONTOH DATA ===\")\n",
    "print(df.sample(5, random_state=42))\n"
   ]
  }
 ],
 "metadata": {
  "kernelspec": {
   "display_name": ".venv",
   "language": "python",
   "name": "python3"
  },
  "language_info": {
   "codemirror_mode": {
    "name": "ipython",
    "version": 3
   },
   "file_extension": ".py",
   "mimetype": "text/x-python",
   "name": "python",
   "nbconvert_exporter": "python",
   "pygments_lexer": "ipython3",
   "version": "3.10.14"
  }
 },
 "nbformat": 4,
 "nbformat_minor": 5
}
